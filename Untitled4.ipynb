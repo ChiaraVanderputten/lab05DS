{
  "nbformat": 4,
  "nbformat_minor": 0,
  "metadata": {
    "colab": {
      "name": "Untitled4.ipynb",
      "provenance": [],
      "collapsed_sections": [],
      "authorship_tag": "ABX9TyOVjkPA9MbCcljrAPqjxccA",
      "include_colab_link": true
    },
    "kernelspec": {
      "name": "python3",
      "display_name": "Python 3"
    },
    "language_info": {
      "name": "python"
    }
  },
  "cells": [
    {
      "cell_type": "markdown",
      "metadata": {
        "id": "view-in-github",
        "colab_type": "text"
      },
      "source": [
        "<a href=\"https://colab.research.google.com/github/ChiaraVanderputten/lab05DS/blob/main/Untitled4.ipynb\" target=\"_parent\"><img src=\"https://colab.research.google.com/assets/colab-badge.svg\" alt=\"Open In Colab\"/></a>"
      ]
    },
    {
      "cell_type": "markdown",
      "metadata": {
        "id": "BQ_oaLm0Nkuy"
      },
      "source": [
        "#2.2"
      ]
    },
    {
      "cell_type": "code",
      "metadata": {
        "id": "-cqLQCwBPvyM",
        "colab": {
          "base_uri": "https://localhost:8080/"
        },
        "outputId": "e3ab82af-ce7f-4c8e-c165-48ea6d036bc7"
      },
      "source": [
        "import pandas as pd\n",
        "import numpy as np\n",
        "\n",
        "\n",
        "\n",
        "a = pd.read_csv('https://github.com/dbdmg/data-science-lab/raw/master/datasets/US_FlightDelayData.zip')\n",
        "#a.info()\n",
        "#a.head\n",
        "a.describe() #ultima colonna inutile la elimino e risalvo il db in b\n",
        "\n",
        "b = a.drop(['Unnamed: 32'], axis = 1)\n",
        "b.describe()\n",
        "\n",
        "uniq = b.groupby('UNIQUE_CARRIER')\n",
        "cont = uniq['FL_DATE'].count()\n",
        "print(cont)\n",
        "\n",
        "uniq_airp = pd.concat([b[\"ORIGIN\"], b[\"DEST\"]])\n",
        "uniq_airp.unique().size\n",
        "\n",
        "b['FL_DATE'].min()\n",
        "b['FL_DATE'].max()\n",
        "\n",
        "print('Shape before:', b.shape)\n",
        "\n",
        "mask = (b['CANCELLED']<1)\n",
        "b = b.loc[mask]\n",
        "\n",
        "print('Shape after:', b.shape)\n",
        "\n",
        "\n"
      ],
      "execution_count": 86,
      "outputs": [
        {
          "output_type": "stream",
          "name": "stdout",
          "text": [
            "UNIQUE_CARRIER\n",
            "AA     73132\n",
            "AS     14711\n",
            "B6     24602\n",
            "DL     69813\n",
            "EV     35037\n",
            "       ...  \n",
            "NK     12570\n",
            "OO     50146\n",
            "UA     42403\n",
            "VX      5782\n",
            "WN    107785\n",
            "Name: FL_DATE, Length: 12, dtype: int64\n",
            "Shape before: (450017, 32)\n",
            "Shape after: (441131, 32)\n"
          ]
        }
      ]
    },
    {
      "cell_type": "markdown",
      "metadata": {
        "id": "eJyImXrBdDq5"
      },
      "source": [
        "#2.1"
      ]
    },
    {
      "cell_type": "code",
      "metadata": {
        "colab": {
          "base_uri": "https://localhost:8080/",
          "height": 252
        },
        "id": "HhJFOH_kdHq5",
        "outputId": "4ef38cb9-db16-4672-9189-8a06854dd145"
      },
      "source": [
        "import numpy as np\n",
        "import pandas as pd\n",
        "from zipfile import ZipFile\n",
        "\n",
        "a='https://github.com/dbdmg/data-science-lab/raw/master/datasets/NYC_POIs.zip'\n",
        "#zip_file= pd.read_csv(a)\n",
        "\n",
        "import zipfile\n",
        "\n",
        "zf = zipfile.ZipFile('/NYC_POIs.zip')\n",
        "for filename in [ 'ny_municipality_pois_id.csv', 'pois_all_info' ]:\n",
        "    try:\n",
        "        info = zf.getinfo(filename)\n",
        "    except KeyError:\n",
        "        print('ERRORE: Non trovato %s nel file zip' % filename)\n",
        "    else:\n",
        "        print('%s è di %d byte' % (info.filename, info.file_size))\n",
        "\n",
        "data = zf.read_csv('ny_municipality_pois_id.csv')\n",
        "print(data)\n",
        "\n",
        "zf."
      ],
      "execution_count": 61,
      "outputs": [
        {
          "output_type": "stream",
          "name": "stdout",
          "text": [
            "ny_municipality_pois_id.csv è di 581601 byte\n",
            "pois_all_info è di 4787894 byte\n"
          ]
        },
        {
          "output_type": "error",
          "ename": "AttributeError",
          "evalue": "ignored",
          "traceback": [
            "\u001b[0;31m---------------------------------------------------------------------------\u001b[0m",
            "\u001b[0;31mAttributeError\u001b[0m                            Traceback (most recent call last)",
            "\u001b[0;32m<ipython-input-61-5f4ed9eb1c89>\u001b[0m in \u001b[0;36m<module>\u001b[0;34m()\u001b[0m\n\u001b[1;32m     17\u001b[0m         \u001b[0mprint\u001b[0m\u001b[0;34m(\u001b[0m\u001b[0;34m'%s è di %d byte'\u001b[0m \u001b[0;34m%\u001b[0m \u001b[0;34m(\u001b[0m\u001b[0minfo\u001b[0m\u001b[0;34m.\u001b[0m\u001b[0mfilename\u001b[0m\u001b[0;34m,\u001b[0m \u001b[0minfo\u001b[0m\u001b[0;34m.\u001b[0m\u001b[0mfile_size\u001b[0m\u001b[0;34m)\u001b[0m\u001b[0;34m)\u001b[0m\u001b[0;34m\u001b[0m\u001b[0;34m\u001b[0m\u001b[0m\n\u001b[1;32m     18\u001b[0m \u001b[0;34m\u001b[0m\u001b[0m\n\u001b[0;32m---> 19\u001b[0;31m \u001b[0mdata\u001b[0m \u001b[0;34m=\u001b[0m \u001b[0mzf\u001b[0m\u001b[0;34m.\u001b[0m\u001b[0mread_csv\u001b[0m\u001b[0;34m(\u001b[0m\u001b[0;34m'ny_municipality_pois_id.csv'\u001b[0m\u001b[0;34m)\u001b[0m\u001b[0;34m\u001b[0m\u001b[0;34m\u001b[0m\u001b[0m\n\u001b[0m\u001b[1;32m     20\u001b[0m \u001b[0mprint\u001b[0m\u001b[0;34m(\u001b[0m\u001b[0mdata\u001b[0m\u001b[0;34m)\u001b[0m\u001b[0;34m\u001b[0m\u001b[0;34m\u001b[0m\u001b[0m\n",
            "\u001b[0;31mAttributeError\u001b[0m: 'ZipFile' object has no attribute 'read_csv'"
          ]
        }
      ]
    }
  ]
}