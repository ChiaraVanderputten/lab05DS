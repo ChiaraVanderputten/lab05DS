{
  "nbformat": 4,
  "nbformat_minor": 0,
  "metadata": {
    "colab": {
      "name": "Untitled4.ipynb",
      "provenance": [],
      "collapsed_sections": [],
      "authorship_tag": "ABX9TyOokgluFoip7B25cuxxcWGN",
      "include_colab_link": true
    },
    "kernelspec": {
      "name": "python3",
      "display_name": "Python 3"
    },
    "language_info": {
      "name": "python"
    }
  },
  "cells": [
    {
      "cell_type": "markdown",
      "metadata": {
        "id": "view-in-github",
        "colab_type": "text"
      },
      "source": [
        "<a href=\"https://colab.research.google.com/github/ChiaraVanderputten/lab05DS/blob/main/Untitled4.ipynb\" target=\"_parent\"><img src=\"https://colab.research.google.com/assets/colab-badge.svg\" alt=\"Open In Colab\"/></a>"
      ]
    },
    {
      "cell_type": "markdown",
      "metadata": {
        "id": "BQ_oaLm0Nkuy"
      },
      "source": [
        "#2.2"
      ]
    },
    {
      "cell_type": "code",
      "metadata": {
        "id": "-cqLQCwBPvyM",
        "colab": {
          "base_uri": "https://localhost:8080/"
        },
        "outputId": "ab912802-d288-4fe0-95f5-4476332fb922"
      },
      "source": [
        "import pandas as pd\n",
        "import numpy as np\n",
        "\n",
        "\n",
        "\n",
        "a = pd.read_csv('https://github.com/dbdmg/data-science-lab/raw/master/datasets/US_FlightDelayData.zip')\n",
        "#a.info()\n",
        "#a.head\n",
        "#a.describe() #ultima colonna inutile la elimino\n",
        "b = a.drop(['Unnamed: 32'], axis = 1)\n",
        "#b.describe()\n",
        "#print(b)\n",
        "mask = (b['CANCELLED']<1)\n",
        "b = b.loc[mask]\n",
        "b.describe()\n",
        "\n",
        "uniq = b.groupby('UNIQUE_CARRIER')\n",
        "cont = uniq['FL_DATE'].count()\n",
        "print(cont)"
      ],
      "execution_count": null,
      "outputs": [
        {
          "output_type": "stream",
          "name": "stdout",
          "text": [
            "UNIQUE_CARRIER\n",
            "AA     72152\n",
            "AS     14454\n",
            "B6     24077\n",
            "DL     69031\n",
            "EV     33878\n",
            "F9      7598\n",
            "HA      6258\n",
            "NK     12129\n",
            "OO     48266\n",
            "UA     42171\n",
            "VX      5645\n",
            "WN    105472\n",
            "Name: FL_DATE, dtype: int64\n"
          ]
        }
      ]
    }
  ]
}