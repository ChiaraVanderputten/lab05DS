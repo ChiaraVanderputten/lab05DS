{
  "nbformat": 4,
  "nbformat_minor": 0,
  "metadata": {
    "colab": {
      "name": "Untitled4.ipynb",
      "provenance": [],
      "collapsed_sections": [],
      "authorship_tag": "ABX9TyMqy41EgCCGD8jPhpRQ2JJI",
      "include_colab_link": true
    },
    "kernelspec": {
      "name": "python3",
      "display_name": "Python 3"
    },
    "language_info": {
      "name": "python"
    }
  },
  "cells": [
    {
      "cell_type": "markdown",
      "metadata": {
        "id": "view-in-github",
        "colab_type": "text"
      },
      "source": [
        "<a href=\"https://colab.research.google.com/github/ChiaraVanderputten/lab05DS/blob/main/Untitled4.ipynb\" target=\"_parent\"><img src=\"https://colab.research.google.com/assets/colab-badge.svg\" alt=\"Open In Colab\"/></a>"
      ]
    },
    {
      "cell_type": "markdown",
      "metadata": {
        "id": "BQ_oaLm0Nkuy"
      },
      "source": [
        "#2.2"
      ]
    },
    {
      "cell_type": "code",
      "metadata": {
        "id": "-cqLQCwBPvyM",
        "colab": {
          "base_uri": "https://localhost:8080/"
        },
        "outputId": "e3ab82af-ce7f-4c8e-c165-48ea6d036bc7"
      },
      "source": [
        "import pandas as pd\n",
        "import numpy as np\n",
        "\n",
        "\n",
        "\n",
        "a = pd.read_csv('https://github.com/dbdmg/data-science-lab/raw/master/datasets/US_FlightDelayData.zip')\n",
        "#a.info()\n",
        "#a.head\n",
        "a.describe() #ultima colonna inutile la elimino e risalvo il db in b\n",
        "\n",
        "b = a.drop(['Unnamed: 32'], axis = 1)\n",
        "b.describe()\n",
        "\n",
        "uniq = b.groupby('UNIQUE_CARRIER')\n",
        "cont = uniq['FL_DATE'].count()\n",
        "print(cont)\n",
        "\n",
        "uniq_airp = pd.concat([b[\"ORIGIN\"], b[\"DEST\"]])\n",
        "uniq_airp.unique().size\n",
        "\n",
        "b['FL_DATE'].min()\n",
        "b['FL_DATE'].max()\n",
        "\n",
        "print('Shape before:', b.shape)\n",
        "\n",
        "mask = (b['CANCELLED']<1)\n",
        "b = b.loc[mask]\n",
        "\n",
        "print('Shape after:', b.shape)\n",
        "\n",
        "\n"
      ],
      "execution_count": null,
      "outputs": [
        {
          "output_type": "stream",
          "name": "stdout",
          "text": [
            "UNIQUE_CARRIER\n",
            "AA     73132\n",
            "AS     14711\n",
            "B6     24602\n",
            "DL     69813\n",
            "EV     35037\n",
            "       ...  \n",
            "NK     12570\n",
            "OO     50146\n",
            "UA     42403\n",
            "VX      5782\n",
            "WN    107785\n",
            "Name: FL_DATE, Length: 12, dtype: int64\n",
            "Shape before: (450017, 32)\n",
            "Shape after: (441131, 32)\n"
          ]
        }
      ]
    },
    {
      "cell_type": "markdown",
      "metadata": {
        "id": "eJyImXrBdDq5"
      },
      "source": [
        "#2.1"
      ]
    },
    {
      "cell_type": "code",
      "metadata": {
        "colab": {
          "base_uri": "https://localhost:8080/"
        },
        "id": "HhJFOH_kdHq5",
        "outputId": "ea0f5f68-3347-478b-e776-217349d31eaf"
      },
      "source": [
        "import numpy as np\n",
        "import pandas as pd\n",
        "\n",
        "mun = np.loadtxt(\"ny_municipality_pois_id.csv\")\n",
        "info = pd.read_csv(\"pois_all_info\", sep='\\t', index_col='@id', dtype={'@id':int, '@type':str, '@lat':float, '@lon':float,\t'amenity':str,\t'name':str,\t'shop':str,\t'public_transport':str,\t'highway':str  })\n",
        "pois_ny= info.loc[mun]\n",
        "\n",
        "mun.shape\n",
        "pois_ny.describe()\n",
        "\n",
        "pois_ny.isna().sum()\n"
      ],
      "execution_count": 117,
      "outputs": [
        {
          "output_type": "execute_result",
          "data": {
            "text/plain": [
              "@type                   0\n",
              "@lat                    0\n",
              "@lon                    0\n",
              "amenity             28838\n",
              "name                23000\n",
              "shop                44833\n",
              "public_transport    45174\n",
              "highway             45991\n",
              "dtype: int64"
            ]
          },
          "metadata": {},
          "execution_count": 117
        }
      ]
    }
  ]
}